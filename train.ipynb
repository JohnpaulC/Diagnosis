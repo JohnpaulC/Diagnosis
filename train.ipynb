{
 "cells": [
  {
   "cell_type": "markdown",
   "metadata": {},
   "source": [
    "\n",
    "# Logistic Regression\n"
   ]
  },
  {
   "cell_type": "code",
   "execution_count": 7,
   "metadata": {
    "ExecuteTime": {
     "end_time": "2020-05-08T04:03:47.731281Z",
     "start_time": "2020-05-08T04:03:43.761957Z"
    }
   },
   "outputs": [
    {
     "name": "stdout",
     "output_type": "stream",
     "text": [
      "Training complete in 3.66s\n",
      "Confusion matrix: \n",
      " [[74707  2461]\n",
      " [ 3348 38233]]\n",
      "Acc: 0.951, Precision: 0.940 Recall: 0.919\n",
      "LR train score: 0.951\n",
      "LR test score: 0.952\n"
     ]
    },
    {
     "data": {
      "text/plain": [
       "['lr.model']"
      ]
     },
     "execution_count": 7,
     "metadata": {},
     "output_type": "execute_result"
    }
   ],
   "source": [
    "import time\n",
    "import numpy as np\n",
    "from sklearn.model_selection import train_test_split\n",
    "from sklearn.preprocessing import StandardScaler\n",
    "from sklearn.linear_model import LogisticRegression\n",
    "from sklearn.externals import joblib\n",
    "from test_xgboost import perf_parse\n",
    "\n",
    "\n",
    "def lr_trainer():\n",
    "    dataset = np.load('satellite_state.npy')\n",
    "    X = dataset[:, :-1]\n",
    "    y = dataset[-1]\n",
    "    x_train, x_test, y_train, y_test = train_test_split(\n",
    "        dataset[:, :-1], dataset[:, -1], random_state=1)\n",
    "    \n",
    "    since = time.time()\n",
    "    # Standard preprocess the training data\n",
    "    scaler = StandardScaler().fit(x_train)\n",
    "    x_train = scaler.transform(x_train)\n",
    "    x_test = scaler.transform(x_test)\n",
    "\n",
    "    lr_model = LogisticRegression(max_iter=20000)\n",
    "    lr_model.fit(x_train, y_train)\n",
    "    time_elapsed = time.time() - since\n",
    "    print('Training complete in {:.2f}s'.format(time_elapsed))\n",
    "    \n",
    "    predictions = lr_model.predict(x_train)\n",
    "    cm_perf = (confusion_matrix(y_train, predictions))\n",
    "    print(\"Confusion matrix: \\n\", cm_perf)\n",
    "    perf = perf_parse(cm_perf)\n",
    "    \n",
    "    print(\"LR train score: {0:.3f}\".format(lr_model.score(x_train, y_train)))\n",
    "    print(\"LR test score: {0:.3f}\".format(lr_model.score(x_test, y_test)))\n",
    "\n",
    "    return lr_model\n",
    "\n",
    "\n",
    "lr_model = lr_trainer()\n",
    "joblib.dump(lr_model, 'lr.model')"
   ]
  },
  {
   "cell_type": "markdown",
   "metadata": {
    "ExecuteTime": {
     "end_time": "2020-04-24T13:02:02.098179Z",
     "start_time": "2020-04-24T13:02:02.050744Z"
    }
   },
   "source": [
    "\n",
    "# SVM\n",
    "\n",
    "Using a common way SVM to do the binary classification job.\n"
   ]
  },
  {
   "cell_type": "code",
   "execution_count": 1,
   "metadata": {
    "ExecuteTime": {
     "end_time": "2020-05-08T04:34:53.320209Z",
     "start_time": "2020-05-08T04:30:11.470784Z"
    }
   },
   "outputs": [
    {
     "name": "stderr",
     "output_type": "stream",
     "text": [
      "/Users/johnpaul/opt/miniconda3/lib/python3.7/site-packages/sklearn/externals/joblib/__init__.py:15: FutureWarning: sklearn.externals.joblib is deprecated in 0.21 and will be removed in 0.23. Please import this functionality directly from joblib, which can be installed with: pip install joblib. If this warning is raised when loading pickled models, you may need to re-serialize those models with scikit-learn 0.21+.\n",
      "  warnings.warn(msg, category=FutureWarning)\n"
     ]
    },
    {
     "name": "stdout",
     "output_type": "stream",
     "text": [
      "Training complete in 161.92s\n",
      "Confusion matrix: \n",
      " [[77027   141]\n",
      " [  143 41438]]\n",
      "Acc: 0.998, Precision: 0.997 Recall: 0.997\n",
      "SVM train score: 0.998\n",
      "SVM test score: 0.998\n"
     ]
    },
    {
     "data": {
      "text/plain": [
       "['svm.model']"
      ]
     },
     "execution_count": 1,
     "metadata": {},
     "output_type": "execute_result"
    }
   ],
   "source": [
    "import time\n",
    "import numpy as np\n",
    "from sklearn.model_selection import train_test_split\n",
    "from sklearn.preprocessing import StandardScaler\n",
    "from sklearn import svm\n",
    "from sklearn.externals import joblib\n",
    "from sklearn.metrics import confusion_matrix\n",
    "from test_xgboost import perf_parse\n",
    "\n",
    "\n",
    "def svm_trainer():\n",
    "    dataset = np.load('satellite_state.npy')\n",
    "    X = dataset[:, :-1]\n",
    "    y = dataset[-1]\n",
    "    x_train, x_test, y_train, y_test = train_test_split(\n",
    "        dataset[:, :-1], dataset[:, -1], random_state=1)\n",
    "    \n",
    "    since = time.time()\n",
    "    # Standard preprocess the training data\n",
    "    scaler = StandardScaler().fit(x_train)\n",
    "    x_train = scaler.transform(x_train)\n",
    "    x_test = scaler.transform(x_test)\n",
    "    \n",
    "    svm_model = svm.SVC()\n",
    "    svm_model.fit(x_train, y_train)\n",
    "    \n",
    "    time_elapsed = time.time() - since\n",
    "    print('Training complete in {:.2f}s'.format(time_elapsed))\n",
    "    \n",
    "    predictions = svm_model.predict(x_train)\n",
    "    cm_perf = (confusion_matrix(y_train, predictions))\n",
    "    print(\"Confusion matrix: \\n\", cm_perf)\n",
    "    perf = perf_parse(cm_perf)\n",
    "    \n",
    "    print(\"SVM train score: {0:.3f}\".format(svm_model.score(x_train, y_train)))\n",
    "    print(\"SVM test score: {0:.3f}\".format(svm_model.score(x_test, y_test)))\n",
    "    \n",
    "    return svm_model\n",
    "\n",
    "svm_model = svm_trainer()\n",
    "joblib.dump(svm_model, 'svm.model')"
   ]
  },
  {
   "cell_type": "markdown",
   "metadata": {},
   "source": [
    "\n",
    "# The neural network\n"
   ]
  },
  {
   "cell_type": "code",
   "execution_count": 3,
   "metadata": {
    "ExecuteTime": {
     "end_time": "2020-05-08T03:59:53.696410Z",
     "start_time": "2020-05-08T03:56:43.729324Z"
    },
    "pycharm": {
     "is_executing": true
    }
   },
   "outputs": [
    {
     "name": "stdout",
     "output_type": "stream",
     "text": [
      "epoch:    0 | loss: 0.7166 | Train accuracy: 35.5% | Test accuracy: 35.6%\n",
      "epoch:  500 | loss: 0.0002 | Train accuracy: 100.0% | Test accuracy: 100.0%\n",
      "Training complete in 3m 8s\n",
      "train acc: 100.0%, test acc: 100.0%\n",
      "              precision    recall  f1-score   support\n",
      "\n",
      "           0       1.00      1.00      1.00     25682\n",
      "           1       1.00      1.00      1.00     13902\n",
      "\n",
      "    accuracy                           1.00     39584\n",
      "   macro avg       1.00      1.00      1.00     39584\n",
      "weighted avg       1.00      1.00      1.00     39584\n",
      "\n"
     ]
    },
    {
     "data": {
      "text/plain": [
       "(MLP(\n",
       "   (fc1): Linear(in_features=45, out_features=60, bias=True)\n",
       "   (fc2): Linear(in_features=60, out_features=30, bias=True)\n",
       "   (fc3): Linear(in_features=30, out_features=2, bias=True)\n",
       " ), tensor([0.9999, 0.9999, 0.9998, 0.9999]))"
      ]
     },
     "execution_count": 3,
     "metadata": {},
     "output_type": "execute_result"
    }
   ],
   "source": [
    "\n",
    "import numpy as np\n",
    "import pandas as pd\n",
    "import copy\n",
    "import time\n",
    "import os\n",
    "from sklearn.model_selection import train_test_split\n",
    "from sklearn.preprocessing import StandardScaler\n",
    "from sklearn.metrics import confusion_matrix, classification_report\n",
    "\n",
    "import torch\n",
    "import torch.nn as nn\n",
    "import torch.nn.functional as F\n",
    "import torch.optim as optim\n",
    "from torch.optim import lr_scheduler\n",
    "\n",
    "\n",
    "def load_Dataset():\n",
    "    dataset = np.load('satellite_state.npy')\n",
    "    X = dataset[:, :-1]\n",
    "    y = dataset[-1]\n",
    "    x_train, x_test, y_train, y_test = train_test_split(\n",
    "        dataset[:, :-1], dataset[:, -1], random_state=1)\n",
    "\n",
    "    # Standard preprocess the training data\n",
    "    scaler = StandardScaler().fit(x_train)\n",
    "    x_train = scaler.transform(x_train)\n",
    "    x_test = scaler.transform(x_test)\n",
    "\n",
    "    x_train = torch.from_numpy(x_train).float()\n",
    "    y_train = torch.from_numpy(y_train).long()\n",
    "    x_test = torch.from_numpy(x_test).float()\n",
    "    y_test = torch.from_numpy(y_test).long()\n",
    "\n",
    "    return x_train, y_train, x_test, y_test\n",
    "\n",
    "\n",
    "def my_pca(x_train, x_test, k):\n",
    "    x_train_mean = torch.mean(x_train, dim=0)\n",
    "    x_train_reduced = x_train - x_train_mean\n",
    "\n",
    "    Sigma = torch.mm(x_train_reduced.t(), x_train_reduced) / \\\n",
    "        len(x_train_reduced)\n",
    "\n",
    "    u, s, v = torch.svd(Sigma)\n",
    "    score = torch.sum(s[0:k]) / torch.sum(s)\n",
    "    u_reduced = u[:, 0:k]\n",
    "\n",
    "    x_train_reduced = torch.mm(x_train_reduced, u_reduced)\n",
    "\n",
    "    x_test_mean = torch.mean(x_test, dim=0)\n",
    "    x_test_reduced = x_test - x_test_mean\n",
    "\n",
    "    x_test_reduced = torch.mm(x_test_reduced, u_reduced)\n",
    "    return x_train_reduced, x_test_reduced, score\n",
    "\n",
    "# Accuracy\n",
    "\n",
    "\n",
    "def get_accuracy(y_pred, y_target):\n",
    "    n_correct = torch.eq(y_pred, y_target).sum().item()\n",
    "    accuracy = n_correct / len(y_pred) * 100\n",
    "    return accuracy\n",
    "\n",
    "# Multilayer Perceptron\n",
    "\n",
    "\n",
    "class MLP(nn.Module):\n",
    "    def __init__(self, input_size, hidden_size, num_classes):\n",
    "        super(MLP, self).__init__()\n",
    "        self.fc1 = nn.Linear(input_size, hidden_size[0])\n",
    "        self.fc2 = nn.Linear(hidden_size[0], hidden_size[1])\n",
    "        self.fc3 = nn.Linear(hidden_size[1], num_classes)\n",
    "\n",
    "    def forward(self, x_in, apply_softmax=False):\n",
    "        a_1 = F.relu(self.fc1(x_in))\n",
    "        a_2 = F.relu(self.fc2(a_1))\n",
    "        y_pred = self.fc3(a_2)\n",
    "        if apply_softmax:\n",
    "            y_pred = F.softmax(y_pred, dim=1)\n",
    "\n",
    "        return y_pred\n",
    "\n",
    "\n",
    "def train_model(pca_bool=False, pca_num=10):\n",
    "    # Load Dataset\n",
    "    x_train, y_train, x_test, y_test = load_Dataset()\n",
    "    score = 100\n",
    "    if pca_bool:\n",
    "        x_train, x_test, score = my_pca(x_train, x_test, pca_num)\n",
    "    # Device configuration\n",
    "    device = torch.device('cuda:1' if torch.cuda.is_available() else 'cpu')\n",
    "    # Model configuration\n",
    "    [m_train, n_train] = x_train.shape\n",
    "    input_size = n_train\n",
    "    hidden_size = [60, 30]\n",
    "    num_classes = 2\n",
    "    # Train configuration\n",
    "    num_epochs = 1000\n",
    "    learning_rate = 0.01\n",
    "    dropout_p = 0.5\n",
    "    step_size = 500\n",
    "\n",
    "    model = MLP(input_size=input_size,\n",
    "                hidden_size=hidden_size,\n",
    "                num_classes=num_classes)\n",
    "\n",
    "    model = model.to(device)\n",
    "    x_train = x_train.to(device)\n",
    "    y_train = y_train.to(device)\n",
    "    x_test = x_test.to(device)\n",
    "    y_test = y_test.to(device)\n",
    "\n",
    "    # Optimization\n",
    "    loss_fn = nn.CrossEntropyLoss()\n",
    "    optimizer = optim.Adam(model.parameters(), lr=learning_rate)\n",
    "    scheduler = lr_scheduler.StepLR(optimizer, step_size=step_size, gamma=0.5)\n",
    "\n",
    "    since = time.time()\n",
    "    best_model_wts = copy.deepcopy(model.state_dict())\n",
    "    best_acc = 0.0\n",
    "    # Training\n",
    "    for t in range(num_epochs):\n",
    "        # Forward pass\n",
    "        y_pred = model(x_train)\n",
    "\n",
    "        # Accuracy\n",
    "        _, predictions = y_pred.max(dim=1)\n",
    "        accuracy = get_accuracy(y_pred=predictions.long(), y_target=y_train)\n",
    "\n",
    "        # Loss\n",
    "        loss = loss_fn(y_pred, y_train)\n",
    "\n",
    "        if t % 10 == 0:\n",
    "            _, pred_test = model(x_test, apply_softmax=True).max(dim=1)\n",
    "            test_acc = get_accuracy(y_pred=pred_test, y_target=y_test)\n",
    "            # deep copy the model\n",
    "            if test_acc > best_acc:\n",
    "                best_acc = test_acc\n",
    "                best_model_wts = copy.deepcopy(model.state_dict())\n",
    "            if t % 500 == 0:\n",
    "                print(\"epoch: {0:4d} | loss: {1:.4f} | Train accuracy: {2:.1f}% | Test accuracy: {3:.1f}%\"\n",
    "                      .format(t, loss, accuracy, test_acc))\n",
    "\n",
    "        # Zero all gradients\n",
    "        optimizer.zero_grad()\n",
    "        # Backward pass\n",
    "        loss.backward()\n",
    "        # Update weights\n",
    "        optimizer.step()\n",
    "\n",
    "        scheduler.step()\n",
    "\n",
    "    time_elapsed = time.time() - since\n",
    "    print('Training complete in {:.2f}s'.format(time_elapsed))\n",
    "    #print('Best val Acc: {:4f}'.format(best_acc))\n",
    "    model.load_state_dict(best_model_wts)\n",
    "\n",
    "    # Predictions\n",
    "    _, pred_train = model(x_train, apply_softmax=True).max(dim=1)\n",
    "    _, pred_test = model(x_test, apply_softmax=True).max(dim=1)\n",
    "\n",
    "    # Train and test accuracies\n",
    "    train_acc = get_accuracy(y_pred=pred_train, y_target=y_train)\n",
    "    test_acc = get_accuracy(y_pred=pred_test, y_target=y_test)\n",
    "    print(\"train acc: {0:.1f}%, test acc: {1:.1f}%\".format(\n",
    "        train_acc, test_acc))\n",
    "\n",
    "    y_true = y_test.cpu().numpy()\n",
    "    y_pred = pred_test.cpu().numpy()\n",
    "\n",
    "    cm_perf = confusion_matrix(y_true, y_pred)\n",
    "    report = classification_report(y_true, y_pred)\n",
    "    print(report)\n",
    "    acc = (cm_perf[1, 1] + cm_perf[0, 0]) / np.sum(cm_perf)\n",
    "    recall = cm_perf[1, 1] / (cm_perf[1, 0] + cm_perf[1, 1])\n",
    "    precision = cm_perf[1, 1] / (cm_perf[0, 1] + cm_perf[1, 1])\n",
    "    score = 2 / ((1 / recall) + (1 / precision))\n",
    "    model_perf = torch.tensor([acc, precision, recall, score])\n",
    "\n",
    "    return model, model_perf\n",
    "\n",
    "\n",
    "train_model()\n"
   ]
  },
  {
   "cell_type": "markdown",
   "metadata": {},
   "source": [
    "\n",
    "# Xgboost\n",
    "\n"
   ]
  },
  {
   "cell_type": "code",
   "execution_count": 9,
   "metadata": {
    "ExecuteTime": {
     "end_time": "2020-05-08T06:48:14.506904Z",
     "start_time": "2020-05-08T06:48:12.825604Z"
    }
   },
   "outputs": [
    {
     "name": "stdout",
     "output_type": "stream",
     "text": [
      "Training complete in 1.40s\n",
      "Confusion matrix: \n",
      " [[76953     0]\n",
      " [    0 41796]]\n",
      "Acc: 1.000, Precision: 1.000 Recall: 1.000\n"
     ]
    },
    {
     "data": {
      "text/plain": [
       "['cart.model']"
      ]
     },
     "execution_count": 9,
     "metadata": {},
     "output_type": "execute_result"
    }
   ],
   "source": [
    "\n",
    "from sklearn.model_selection import train_test_split\n",
    "from sklearn.preprocessing import StandardScaler\n",
    "from sklearn.tree import DecisionTreeClassifier\n",
    "\n",
    "def CART_trainer():\n",
    "    dataset = np.load('satellite_state.npy')\n",
    "    X = dataset[:, :-1]\n",
    "    y = dataset[-1]\n",
    "    x_train, x_test, y_train, y_test = train_test_split(\n",
    "        dataset[:, :-1], dataset[:, -1])\n",
    "    \n",
    "    since = time.time()\n",
    "\n",
    "    cart_model = DecisionTreeClassifier().fit(x_train, y_train)\n",
    "    time_elapsed = time.time() - since\n",
    "    print('Training complete in {:.2f}s'.format(time_elapsed))\n",
    "    \n",
    "    predictions = cart_model.predict(x_train)\n",
    "    cm_perf = (confusion_matrix(y_train, predictions))\n",
    "    print(\"Confusion matrix: \\n\", cm_perf)\n",
    "    perf = perf_parse(cm_perf)\n",
    "    \n",
    "    return cart_model\n",
    "\n",
    "cart_model = CART_trainer()\n",
    "joblib.dump(cart_model, 'cart.model')"
   ]
  },
  {
   "cell_type": "code",
   "execution_count": 7,
   "metadata": {
    "ExecuteTime": {
     "end_time": "2020-05-08T06:47:54.508292Z",
     "start_time": "2020-05-08T06:47:52.804718Z"
    }
   },
   "outputs": [
    {
     "name": "stdout",
     "output_type": "stream",
     "text": [
      "Training complete in 1.41s\n",
      "Confusion matrix: \n",
      " [[77175     0]\n",
      " [    0 41574]]\n",
      "Acc: 1.000, Precision: 1.000 Recall: 1.000\n"
     ]
    },
    {
     "data": {
      "text/plain": [
       "['GBDT.model']"
      ]
     },
     "execution_count": 7,
     "metadata": {},
     "output_type": "execute_result"
    }
   ],
   "source": [
    "\n",
    "from sklearn.model_selection import train_test_split\n",
    "from sklearn.preprocessing import StandardScaler\n",
    "from sklearn.ensemble import GradientBoostingClassifier\n",
    "\n",
    "def GBDT_trainer():\n",
    "    dataset = np.load('satellite_state.npy')\n",
    "    X = dataset[:, :-1]\n",
    "    y = dataset[-1]\n",
    "    x_train, x_test, y_train, y_test = train_test_split(\n",
    "        dataset[:, :-1], dataset[:, -1], random_state=6)\n",
    "    \n",
    "    since = time.time()\n",
    "\n",
    "    GBDT_model = DecisionTreeClassifier().fit(x_train, y_train)\n",
    "    time_elapsed = time.time() - since\n",
    "    print('Training complete in {:.2f}s'.format(time_elapsed))\n",
    "    \n",
    "    predictions = GBDT_model.predict(x_train)\n",
    "    cm_perf = (confusion_matrix(y_train, predictions))\n",
    "    print(\"Confusion matrix: \\n\", cm_perf)\n",
    "    perf = perf_parse(cm_perf)\n",
    "    \n",
    "    return GBDT_model\n",
    "\n",
    "GBDT_model = GBDT_trainer()\n",
    "joblib.dump(GBDT_model, 'GBDT.model')\n"
   ]
  },
  {
   "cell_type": "code",
   "execution_count": null,
   "metadata": {
    "ExecuteTime": {
     "end_time": "2020-05-10T14:45:11.159706Z",
     "start_time": "2020-05-10T14:45:10.780262Z"
    },
    "pycharm": {
     "is_executing": true
    },
    "scrolled": false
   },
   "outputs": [],
   "source": [
    "\n",
    "from sklearn.model_selection import train_test_split\n",
    "from sklearn.preprocessing import StandardScaler\n",
    "from sklearn.metrics import confusion_matrix\n",
    "import xgboost as xgb\n",
    "import matplotlib.pyplot as plt\n",
    "import time\n",
    "\n",
    "def xgb_trainer():\n",
    "    dataset = np.load('satellite_state.npy')\n",
    "    X = dataset[:, :-1]\n",
    "    y = dataset[-1]\n",
    "    x_train, x_test, y_train, y_test = train_test_split(\n",
    "        dataset[:, :-1], dataset[:, -1], random_state=1)\n",
    "    \n",
    "    since = time.time()\n",
    "    param = {'max_depth': 2}\n",
    "    xgb_model = xgb.XGBClassifier(param)\n",
    "    xgb_model.fit(x_train, y_train)\n",
    "    \n",
    "    \n",
    "    time_elapsed = time.time() - since\n",
    "    print('Training complete in {:.2f}s'.format(time_elapsed))\n",
    "    \n",
    "    predictions = xgb_model.predict(x_train)\n",
    "    cm_perf = (confusion_matrix(y_train, predictions))\n",
    "    print(\"Confusion matrix: \\n\", cm_perf)\n",
    "    perf = perf_parse(cm_perf)\n",
    "    \n",
    "    return xgb_model\n",
    "\n",
    "xgb_model = xgb_trainer()\n",
    "xgb_model.save_model('xgb.model')\n"
   ]
  },
  {
   "cell_type": "code",
   "execution_count": 29,
   "metadata": {
    "ExecuteTime": {
     "end_time": "2020-05-13T01:24:29.437901Z",
     "start_time": "2020-05-13T01:24:11.150710Z"
    },
    "scrolled": true
   },
   "outputs": [
    {
     "name": "stdout",
     "output_type": "stream",
     "text": [
      "[0]\teval-error:0.06869\ttrain-error:0.06890\n",
      "[1]\teval-error:0.04628\ttrain-error:0.04690\n",
      "[2]\teval-error:0.02286\ttrain-error:0.02385\n",
      "[3]\teval-error:0.01794\ttrain-error:0.01812\n",
      "[4]\teval-error:0.01291\ttrain-error:0.01309\n",
      "[5]\teval-error:0.00867\ttrain-error:0.00908\n",
      "[6]\teval-error:0.00652\ttrain-error:0.00665\n",
      "[7]\teval-error:0.00430\ttrain-error:0.00443\n",
      "[8]\teval-error:0.00364\ttrain-error:0.00356\n",
      "[9]\teval-error:0.00374\ttrain-error:0.00331\n",
      "[10]\teval-error:0.00311\ttrain-error:0.00277\n",
      "[11]\teval-error:0.00237\ttrain-error:0.00227\n",
      "[12]\teval-error:0.00321\ttrain-error:0.00323\n",
      "[13]\teval-error:0.00235\ttrain-error:0.00216\n",
      "[14]\teval-error:0.00187\ttrain-error:0.00168\n",
      "[15]\teval-error:0.00152\ttrain-error:0.00145\n",
      "[16]\teval-error:0.00164\ttrain-error:0.00141\n",
      "[17]\teval-error:0.00157\ttrain-error:0.00138\n",
      "[18]\teval-error:0.00129\ttrain-error:0.00112\n",
      "[19]\teval-error:0.00124\ttrain-error:0.00112\n",
      "[20]\teval-error:0.00121\ttrain-error:0.00098\n",
      "[21]\teval-error:0.00096\ttrain-error:0.00089\n",
      "[22]\teval-error:0.00109\ttrain-error:0.00092\n",
      "[23]\teval-error:0.00073\ttrain-error:0.00061\n",
      "[24]\teval-error:0.00078\ttrain-error:0.00060\n",
      "[25]\teval-error:0.00083\ttrain-error:0.00066\n",
      "[26]\teval-error:0.00076\ttrain-error:0.00055\n",
      "[27]\teval-error:0.00048\ttrain-error:0.00028\n",
      "[28]\teval-error:0.00048\ttrain-error:0.00026\n",
      "[29]\teval-error:0.00058\ttrain-error:0.00033\n",
      "[30]\teval-error:0.00058\ttrain-error:0.00034\n",
      "[31]\teval-error:0.00058\ttrain-error:0.00039\n",
      "[32]\teval-error:0.00053\ttrain-error:0.00039\n",
      "[33]\teval-error:0.00038\ttrain-error:0.00027\n",
      "[34]\teval-error:0.00046\ttrain-error:0.00028\n",
      "[35]\teval-error:0.00040\ttrain-error:0.00027\n",
      "[36]\teval-error:0.00020\ttrain-error:0.00016\n",
      "[37]\teval-error:0.00030\ttrain-error:0.00017\n",
      "[38]\teval-error:0.00030\ttrain-error:0.00018\n",
      "[39]\teval-error:0.00028\ttrain-error:0.00016\n",
      "[40]\teval-error:0.00023\ttrain-error:0.00018\n",
      "[41]\teval-error:0.00023\ttrain-error:0.00016\n",
      "[42]\teval-error:0.00023\ttrain-error:0.00014\n",
      "[43]\teval-error:0.00023\ttrain-error:0.00012\n",
      "[44]\teval-error:0.00020\ttrain-error:0.00012\n",
      "[45]\teval-error:0.00018\ttrain-error:0.00008\n",
      "[46]\teval-error:0.00020\ttrain-error:0.00010\n",
      "[47]\teval-error:0.00010\ttrain-error:0.00007\n",
      "[48]\teval-error:0.00010\ttrain-error:0.00007\n",
      "[49]\teval-error:0.00013\ttrain-error:0.00006\n",
      "[50]\teval-error:0.00015\ttrain-error:0.00007\n",
      "[51]\teval-error:0.00018\ttrain-error:0.00007\n",
      "[52]\teval-error:0.00018\ttrain-error:0.00007\n",
      "[53]\teval-error:0.00013\ttrain-error:0.00005\n",
      "[54]\teval-error:0.00013\ttrain-error:0.00006\n",
      "[55]\teval-error:0.00015\ttrain-error:0.00004\n",
      "[56]\teval-error:0.00013\ttrain-error:0.00005\n",
      "[57]\teval-error:0.00015\ttrain-error:0.00004\n",
      "[58]\teval-error:0.00013\ttrain-error:0.00004\n",
      "[59]\teval-error:0.00015\ttrain-error:0.00004\n",
      "[60]\teval-error:0.00013\ttrain-error:0.00004\n",
      "[61]\teval-error:0.00015\ttrain-error:0.00004\n",
      "[62]\teval-error:0.00015\ttrain-error:0.00004\n",
      "[63]\teval-error:0.00013\ttrain-error:0.00004\n",
      "[64]\teval-error:0.00010\ttrain-error:0.00004\n",
      "[65]\teval-error:0.00015\ttrain-error:0.00003\n",
      "[66]\teval-error:0.00015\ttrain-error:0.00003\n",
      "[67]\teval-error:0.00015\ttrain-error:0.00003\n",
      "[68]\teval-error:0.00013\ttrain-error:0.00004\n",
      "[69]\teval-error:0.00013\ttrain-error:0.00004\n",
      "[70]\teval-error:0.00013\ttrain-error:0.00004\n",
      "[71]\teval-error:0.00013\ttrain-error:0.00003\n",
      "[72]\teval-error:0.00013\ttrain-error:0.00003\n",
      "[73]\teval-error:0.00013\ttrain-error:0.00003\n",
      "[74]\teval-error:0.00013\ttrain-error:0.00003\n",
      "[75]\teval-error:0.00013\ttrain-error:0.00003\n",
      "[76]\teval-error:0.00010\ttrain-error:0.00003\n",
      "[77]\teval-error:0.00010\ttrain-error:0.00003\n",
      "[78]\teval-error:0.00010\ttrain-error:0.00002\n",
      "[79]\teval-error:0.00010\ttrain-error:0.00002\n",
      "[80]\teval-error:0.00013\ttrain-error:0.00002\n",
      "[81]\teval-error:0.00010\ttrain-error:0.00002\n",
      "[82]\teval-error:0.00010\ttrain-error:0.00002\n",
      "[83]\teval-error:0.00010\ttrain-error:0.00002\n",
      "[84]\teval-error:0.00010\ttrain-error:0.00002\n",
      "[85]\teval-error:0.00013\ttrain-error:0.00002\n",
      "[86]\teval-error:0.00010\ttrain-error:0.00002\n",
      "[87]\teval-error:0.00010\ttrain-error:0.00002\n",
      "[88]\teval-error:0.00010\ttrain-error:0.00002\n",
      "[89]\teval-error:0.00013\ttrain-error:0.00002\n",
      "[90]\teval-error:0.00010\ttrain-error:0.00002\n",
      "[91]\teval-error:0.00015\ttrain-error:0.00002\n",
      "[92]\teval-error:0.00013\ttrain-error:0.00002\n",
      "[93]\teval-error:0.00010\ttrain-error:0.00002\n",
      "[94]\teval-error:0.00013\ttrain-error:0.00001\n",
      "[95]\teval-error:0.00013\ttrain-error:0.00001\n",
      "[96]\teval-error:0.00015\ttrain-error:0.00000\n",
      "[97]\teval-error:0.00015\ttrain-error:0.00000\n",
      "[98]\teval-error:0.00015\ttrain-error:0.00001\n",
      "[99]\teval-error:0.00015\ttrain-error:0.00000\n"
     ]
    },
    {
     "data": {
      "image/png": "[encoded data removed]",
      "text/plain": [
       "<Figure size 432x288 with 1 Axes>"
      ]
     },
     "metadata": {
      "needs_background": "light"
     },
     "output_type": "display_data"
    },
    {
     "name": "stdout",
     "output_type": "stream",
     "text": [
      "Training complete in 17.79s\n",
      "[ True False False ... False False False]\n",
      "Confusion matrix: \n",
      " [[25680     2]\n",
      " [    4 13898]]\n",
      "Acc: 1.000, Precision: 1.000 Recall: 1.000\n"
     ]
    }
   ],
   "source": [
    "from sklearn.model_selection import train_test_split\n",
    "from sklearn.preprocessing import StandardScaler\n",
    "from sklearn.metrics import confusion_matrix\n",
    "import xgboost as xgb\n",
    "import matplotlib.pyplot as plt\n",
    "import time\n",
    "from test_xgboost import perf_parse\n",
    "\n",
    "\n",
    "def xgb_trainer():\n",
    "    dataset = np.load('satellite_state.npy')\n",
    "    X = dataset[:, :-1]\n",
    "    y = dataset[-1]\n",
    "    x_train, x_test, y_train, y_test = train_test_split(\n",
    "        dataset[:, :-1], dataset[:, -1], random_state=1)\n",
    "    dtrain = xgb.DMatrix(x_train, label=y_train)\n",
    "    dtest = xgb.DMatrix(x_test, label=y_test)\n",
    "\n",
    "    evallist = [(dtest, 'eval'), (dtrain, 'train')]\n",
    "\n",
    "    since = time.time()\n",
    "    num_round = 100\n",
    "\n",
    "    param = {'max_depth': 2, 'eta': 1, 'objective': 'binary:logistic'}\n",
    "    xgb_model = xgb.train(param, dtrain, num_round, evallist)\n",
    "    #xgb_model.fit(x_train, y_train)\n",
    "\n",
    "    xgb.plot_tree(xgb_model, num_trees=0)\n",
    "    plt.show()\n",
    "\n",
    "    time_elapsed = time.time() - since\n",
    "    print('Training complete in {:.2f}s'.format(time_elapsed))\n",
    "\n",
    "    predictions = xgb_model.predict(dtest)\n",
    "    predictions = np.array(predictions > 0.5)\n",
    "    print(predictions)\n",
    "    cm_perf = (confusion_matrix(y_test, predictions))\n",
    "    print(\"Confusion matrix: \\n\", cm_perf)\n",
    "    perf = perf_parse(cm_perf)\n",
    "\n",
    "    return xgb_model\n",
    "\n",
    "\n",
    "xgb_model = xgb_trainer()\n",
    "# xgb_model.save_model('xgb.model')"
   ]
  },
  {
   "cell_type": "code",
   "execution_count": 30,
   "metadata": {
    "ExecuteTime": {
     "end_time": "2020-05-13T08:53:04.221947Z",
     "start_time": "2020-05-13T08:53:04.212002Z"
    }
   },
   "outputs": [],
   "source": [
    "xgb_model.save_model('xgb.model')"
   ]
  },
  {
   "cell_type": "code",
   "execution_count": null,
   "metadata": {},
   "outputs": [],
   "source": []
  }
 ],
 "metadata": {
  "kernelspec": {
   "display_name": "Python 3",
   "language": "python",
   "name": "python3"
  },
  "language_info": {
   "codemirror_mode": {
    "name": "ipython",
    "version": 3
   },
   "file_extension": ".py",
   "mimetype": "text/x-python",
   "name": "python",
   "nbconvert_exporter": "python",
   "pygments_lexer": "ipython3",
   "version": "3.7.4"
  },
  "varInspector": {
   "cols": {
    "lenName": 16,
    "lenType": 16,
    "lenVar": 40
   },
   "kernels_config": {
    "python": {
     "delete_cmd_postfix": "",
     "delete_cmd_prefix": "del ",
     "library": "var_list.py",
     "varRefreshCmd": "print(var_dic_list())"
    },
    "r": {
     "delete_cmd_postfix": ") ",
     "delete_cmd_prefix": "rm(",
     "library": "var_list.r",
     "varRefreshCmd": "cat(var_dic_list()) "
    }
   },
   "position": {
    "height": "497px",
    "left": "1310px",
    "right": "20px",
    "top": "120px",
    "width": "350px"
   },
   "types_to_exclude": [
    "module",
    "function",
    "builtin_function_or_method",
    "instance",
    "_Feature"
   ],
   "window_display": false
  }
 },
 "nbformat": 4,
 "nbformat_minor": 1
}
